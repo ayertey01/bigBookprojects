{
  "nbformat": 4,
  "nbformat_minor": 0,
  "metadata": {
    "colab": {
      "provenance": [],
      "authorship_tag": "ABX9TyPOn3RZeC+8tOjWB/RWnIoI",
      "include_colab_link": true
    },
    "kernelspec": {
      "name": "python3",
      "display_name": "Python 3"
    },
    "language_info": {
      "name": "python"
    }
  },
  "cells": [
    {
      "cell_type": "markdown",
      "metadata": {
        "id": "view-in-github",
        "colab_type": "text"
      },
      "source": [
        "<a href=\"https://colab.research.google.com/github/ayertey01/bigBookprojects/blob/main/firstTest.ipynb\" target=\"_parent\"><img src=\"https://colab.research.google.com/assets/colab-badge.svg\" alt=\"Open In Colab\"/></a>"
      ]
    },
    {
      "cell_type": "code",
      "execution_count": 2,
      "metadata": {
        "id": "3UeuNUR7EUqG"
      },
      "outputs": [],
      "source": [
        "import os,sys"
      ]
    },
    {
      "cell_type": "code",
      "source": [
        "os.system(sys.executable +'-m pip install --user bigbookpython')"
      ],
      "metadata": {
        "colab": {
          "base_uri": "https://localhost:8080/"
        },
        "id": "WjYffl0QEZfe",
        "outputId": "9c4a66b5-25ff-4caa-d56c-11ba77cb44f2"
      },
      "execution_count": 3,
      "outputs": [
        {
          "output_type": "execute_result",
          "data": {
            "text/plain": [
              "32512"
            ]
          },
          "metadata": {},
          "execution_count": 3
        }
      ]
    },
    {
      "cell_type": "code",
      "source": [
        "!pip install bigbookpython"
      ],
      "metadata": {
        "colab": {
          "base_uri": "https://localhost:8080/"
        },
        "id": "jTmdrhSwEvho",
        "outputId": "3e20d1f5-72ab-4964-9526-a3ac234e6683"
      },
      "execution_count": 4,
      "outputs": [
        {
          "output_type": "stream",
          "name": "stdout",
          "text": [
            "Collecting bigbookpython\n",
            "  Downloading BigBookPython-0.1.1.tar.gz (2.1 kB)\n",
            "  Installing build dependencies ... \u001b[?25l\u001b[?25hdone\n",
            "  Getting requirements to build wheel ... \u001b[?25l\u001b[?25hdone\n",
            "  Preparing metadata (pyproject.toml) ... \u001b[?25l\u001b[?25hdone\n",
            "Requirement already satisfied: pyperclip in /usr/local/lib/python3.10/dist-packages (from bigbookpython) (1.8.2)\n",
            "Collecting bext (from bigbookpython)\n",
            "  Downloading Bext-0.0.8.tar.gz (8.9 kB)\n",
            "  Installing build dependencies ... \u001b[?25l\u001b[?25hdone\n",
            "  Getting requirements to build wheel ... \u001b[?25l\u001b[?25hdone\n",
            "  Preparing metadata (pyproject.toml) ... \u001b[?25l\u001b[?25hdone\n",
            "Collecting playsound (from bigbookpython)\n",
            "  Downloading playsound-1.3.0.tar.gz (7.7 kB)\n",
            "  Preparing metadata (setup.py) ... \u001b[?25l\u001b[?25hdone\n",
            "Collecting pyttsx3 (from bigbookpython)\n",
            "  Downloading pyttsx3-2.90-py3-none-any.whl (39 kB)\n",
            "Collecting colorama (from bext->bigbookpython)\n",
            "  Downloading colorama-0.4.6-py2.py3-none-any.whl (25 kB)\n",
            "Building wheels for collected packages: bigbookpython, bext, playsound\n",
            "  Building wheel for bigbookpython (pyproject.toml) ... \u001b[?25l\u001b[?25hdone\n",
            "  Created wheel for bigbookpython: filename=BigBookPython-0.1.1-py3-none-any.whl size=2074 sha256=d0b14038c91daefba560533e49b15474f096829142acb22740df413504ccd906\n",
            "  Stored in directory: /root/.cache/pip/wheels/2c/45/45/215383aa93db24aa81d110fb195c48992b944a0fb85035d5fd\n",
            "  Building wheel for bext (pyproject.toml) ... \u001b[?25l\u001b[?25hdone\n",
            "  Created wheel for bext: filename=Bext-0.0.8-py3-none-any.whl size=8756 sha256=015978b0e21c806c72d018b1460ce2b36e52aa65a112f1e78a9038ea4600a1d2\n",
            "  Stored in directory: /root/.cache/pip/wheels/0f/54/52/b090b0b5c24e2e1b9407baa38de3d0ad036aac83853751cf84\n",
            "  Building wheel for playsound (setup.py) ... \u001b[?25l\u001b[?25hdone\n",
            "  Created wheel for playsound: filename=playsound-1.3.0-py3-none-any.whl size=7020 sha256=d088508b3357de07abeb14b1c6d0b8015e7c928e0f971357a00798cc3f866ba9\n",
            "  Stored in directory: /root/.cache/pip/wheels/90/89/ed/2d643f4226fc8c7c9156fc28abd8051e2d2c0de37ae51ac45c\n",
            "Successfully built bigbookpython bext playsound\n",
            "Installing collected packages: pyttsx3, playsound, colorama, bext, bigbookpython\n",
            "Successfully installed bext-0.0.8 bigbookpython-0.1.1 colorama-0.4.6 playsound-1.3.0 pyttsx3-2.90\n"
          ]
        }
      ]
    },
    {
      "cell_type": "code",
      "source": [
        "import bext"
      ],
      "metadata": {
        "id": "cAqreQZQE_Fo"
      },
      "execution_count": 6,
      "outputs": []
    },
    {
      "cell_type": "code",
      "source": [],
      "metadata": {
        "id": "P5CsRZJCGCYj"
      },
      "execution_count": null,
      "outputs": []
    }
  ]
}